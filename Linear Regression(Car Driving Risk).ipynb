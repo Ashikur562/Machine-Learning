{
 "cells": [
  {
   "cell_type": "markdown",
   "id": "ff3927b2",
   "metadata": {},
   "source": [
    "# Libary import"
   ]
  },
  {
   "cell_type": "code",
   "execution_count": 10,
   "id": "ffd8f06f",
   "metadata": {},
   "outputs": [],
   "source": [
    "import numpy as np\n",
    "import matplotlib.pyplot as plt\n",
    "import pandas as pd"
   ]
  },
  {
   "cell_type": "code",
   "execution_count": 11,
   "id": "b2278eb5",
   "metadata": {},
   "outputs": [],
   "source": [
    "df = pd.read_csv('car driving risk analysis.csv')"
   ]
  },
  {
   "cell_type": "code",
   "execution_count": 12,
   "id": "98b2e1d7",
   "metadata": {},
   "outputs": [],
   "source": [
    "x = df[['speed']]\n",
    "y = df[['risk']]"
   ]
  },
  {
   "cell_type": "code",
   "execution_count": 13,
   "id": "af9d0949",
   "metadata": {},
   "outputs": [],
   "source": [
    "from sklearn.model_selection import train_test_split"
   ]
  },
  {
   "cell_type": "code",
   "execution_count": 14,
   "id": "b6ff91ec",
   "metadata": {},
   "outputs": [],
   "source": [
    "x_train, x_test, y_train, y_test = train_test_split(x, y, test_size = .40, random_state = 1)"
   ]
  },
  {
   "cell_type": "code",
   "execution_count": 15,
   "id": "f801e5a5",
   "metadata": {},
   "outputs": [],
   "source": [
    "from sklearn.linear_model import LinearRegression"
   ]
  },
  {
   "cell_type": "code",
   "execution_count": 16,
   "id": "8f711919",
   "metadata": {},
   "outputs": [
    {
     "data": {
      "text/plain": [
       "LinearRegression()"
      ]
     },
     "execution_count": 16,
     "metadata": {},
     "output_type": "execute_result"
    }
   ],
   "source": [
    "lreg = LinearRegression()\n",
    "lreg.fit(x_train, y_train)"
   ]
  },
  {
   "cell_type": "code",
   "execution_count": 17,
   "id": "bd769872",
   "metadata": {},
   "outputs": [
    {
     "data": {
      "text/plain": [
       "[<matplotlib.lines.Line2D at 0x1a4ef7c47f0>]"
      ]
     },
     "execution_count": 17,
     "metadata": {},
     "output_type": "execute_result"
    },
    {
     "data": {
      "image/png": "[encoded data removed]",
      "text/plain": [
       "<Figure size 432x288 with 1 Axes>"
      ]
     },
     "metadata": {
      "needs_background": "light"
     },
     "output_type": "display_data"
    }
   ],
   "source": [
    "plt.scatter(df['speed'], df['risk'], color = 'green')\n",
    "plt.title('Car Diving Risk')\n",
    "plt.xlabel('speed')\n",
    "plt.ylabel('risk')\n",
    "plt.plot(df.speed, lreg.predict(df[['speed']]))"
   ]
  },
  {
   "cell_type": "code",
   "execution_count": 18,
   "id": "bd298e8d",
   "metadata": {},
   "outputs": [
    {
     "name": "stdout",
     "output_type": "stream",
     "text": [
      "[[ 27.15301215]\n",
      " [ 73.82259334]\n",
      " [  3.81822156]\n",
      " [101.04651569]\n",
      " [ 97.15738393]\n",
      " [ 77.7117251 ]]\n"
     ]
    }
   ],
   "source": [
    "print(lreg.predict(x_test))"
   ]
  },
  {
   "cell_type": "code",
   "execution_count": 19,
   "id": "f051bfd6",
   "metadata": {},
   "outputs": [
    {
     "name": "stdout",
     "output_type": "stream",
     "text": [
      "    speed\n",
      "3     110\n",
      "7     230\n",
      "6      50\n",
      "2     300\n",
      "10    290\n",
      "4     240\n"
     ]
    }
   ],
   "source": [
    "print(x_test)"
   ]
  },
  {
   "cell_type": "code",
   "execution_count": 20,
   "id": "7a83196e",
   "metadata": {},
   "outputs": [
    {
     "name": "stdout",
     "output_type": "stream",
     "text": [
      "    risk\n",
      "3     60\n",
      "7     85\n",
      "6      7\n",
      "2     98\n",
      "10    82\n",
      "4     72\n"
     ]
    }
   ],
   "source": [
    "print(y_test)"
   ]
  },
  {
   "cell_type": "code",
   "execution_count": 21,
   "id": "1ae00581",
   "metadata": {},
   "outputs": [
    {
     "name": "stdout",
     "output_type": "stream",
     "text": [
      "        risk\n",
      "3   0.452550\n",
      "7   0.868501\n",
      "6   0.545460\n",
      "2   1.031087\n",
      "10  1.184846\n",
      "4   1.079330\n"
     ]
    }
   ],
   "source": [
    "print(lreg.predict(x_test)/ y_test)"
   ]
  },
  {
   "cell_type": "code",
   "execution_count": 22,
   "id": "0f51ebf8",
   "metadata": {},
   "outputs": [
    {
     "name": "stdout",
     "output_type": "stream",
     "text": [
      "0.8602956666666667\n"
     ]
    }
   ],
   "source": [
    "print(( 0.452550+0.868501+0.545460+1.031087+1.184846+1.079330)/6)"
   ]
  },
  {
   "cell_type": "code",
   "execution_count": 23,
   "id": "5136e23e",
   "metadata": {},
   "outputs": [
    {
     "name": "stdout",
     "output_type": "stream",
     "text": [
      "[[31.04214392]]\n"
     ]
    }
   ],
   "source": [
    "print(lreg.predict([[120]]))"
   ]
  },
  {
   "cell_type": "code",
   "execution_count": 24,
   "id": "3d0a2b9a",
   "metadata": {},
   "outputs": [],
   "source": [
    "accuracy = lreg.score(x_test, y_test)"
   ]
  },
  {
   "cell_type": "code",
   "execution_count": 25,
   "id": "91749548",
   "metadata": {},
   "outputs": [
    {
     "name": "stdout",
     "output_type": "stream",
     "text": [
      "Accuracy:  71.33824900141748 %\n"
     ]
    }
   ],
   "source": [
    "print(\"Accuracy: \", accuracy*100, '%')"
   ]
  },
  {
   "cell_type": "code",
   "execution_count": 26,
   "id": "1105b691",
   "metadata": {},
   "outputs": [],
   "source": [
    "from sklearn.metrics import r2_score"
   ]
  },
  {
   "cell_type": "code",
   "execution_count": 28,
   "id": "ea5e30f5",
   "metadata": {},
   "outputs": [],
   "source": [
    "predictions = lreg.predict(x_test)"
   ]
  },
  {
   "cell_type": "code",
   "execution_count": null,
   "id": "93ed476f",
   "metadata": {},
   "outputs": [],
   "source": [
    "print('R-square: ', r2_score(y_test, predictions))"
   ]
  }
 ],
 "metadata": {
  "kernelspec": {
   "display_name": "Python 3",
   "language": "python",
   "name": "python3"
  },
  "language_info": {
   "codemirror_mode": {
    "name": "ipython",
    "version": 3
   },
   "file_extension": ".py",
   "mimetype": "text/x-python",
   "name": "python",
   "nbconvert_exporter": "python",
   "pygments_lexer": "ipython3",
   "version": "3.8.8"
  }
 },
 "nbformat": 4,
 "nbformat_minor": 5
}
